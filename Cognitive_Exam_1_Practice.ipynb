{
  "nbformat": 4,
  "nbformat_minor": 0,
  "metadata": {
    "colab": {
      "provenance": [],
      "authorship_tag": "ABX9TyNRleeNkNpaDPtg0p/zPZag",
      "include_colab_link": true
    },
    "kernelspec": {
      "name": "python3",
      "display_name": "Python 3"
    },
    "language_info": {
      "name": "python"
    }
  },
  "cells": [
    {
      "cell_type": "markdown",
      "metadata": {
        "id": "view-in-github",
        "colab_type": "text"
      },
      "source": [
        "<a href=\"https://colab.research.google.com/github/ucchol/Applied-Cognitive-Modeling-CS--5390/blob/main/Cognitive_Exam_1_Practice.ipynb\" target=\"_parent\"><img src=\"https://colab.research.google.com/assets/colab-badge.svg\" alt=\"Open In Colab\"/></a>"
      ]
    },
    {
      "cell_type": "markdown",
      "source": [
        "# Using PyIBL for binary choice task\n",
        "\n",
        "In this task, the agent is required to choose one of two options: Option A or Option B. A numerical outcome drawn from a distribution after the\n",
        "selection, is the **immediate** feedback of the task. \n",
        "\n",
        "![Capture1.PNG](data:image/png;base64,iVBORw0KGgoAAAANSUhEUgAAAzkAAADNCAYAAACb+b6LAAAAAXNSR0IArs4c6QAAAARnQU1BAACxjwv8YQUAAAAJcEhZcwAADsMAAA7DAcdvqGQAADuySURBVHhe7Z0HlCRXebbBYGODMRgwBpOxjQ0YMBhjk+VAMDYYIaJFEAKhHBDKGUmruChbWVrlsFpJKOec82olWTmsciYIEAKJ+5/nnv+bc7dUPd0zOzOqvv285zxnZrqrbt2qnv6+em+q5yWllFJKKaWUqkiaHKWUUkoppVRV0uQopZRSSimlqpImRymllFJKKVWVNDlKKaWUUkqpqqTJUUoppZRSSlUlTY5SSimllFKqKmlylFJKKaWUUlVJk6OUUkoppZSqSpocpZRSSimlVFXS5CillFJKKaWqkiZHKaWUUkopVZU0OUoppZRSSqmqpMlRSimllFJKVSVNjlJKKaWUUqoqaXKUUkoppZRSVUmTo5RSSimllKpKmhyllFJKKaVUVdLkKKWUUkoppaqSJkcppZRSSilVlTQ5SimllFJKqaqkyVFKKaWUUkpVJU2OUkoppZRSqippcpRSSimllFJVSZOjlFJKKaWUqkqaHKWUUkoppVRVGkqT83//93/pd7/7nYiIiIiITAG1SZMjIiIiIjLi1KaRNjnPPPPMGG3vi4iIiIiMArVpJE1OGJunnnoqPfHEE+nJJ59MTz/99KTNDvux/29+85tMlN+2rYiIiIhI16hN1ZicMBbjUW77q1/9Ki1YsCDtvffe6dRTT00PP/xwNiplmYPCfg8++GA6++yz01lnnZV+/vOfT7osEREREZGZpjZVYXJ+8YtfpJtuuimdeOKJ6bjjjkvHH3/8GCeffHK65JJL0n333bdIjw1G5IQTTkhLLrlkmjVrVrr99tsnbUx++9vfphtuuCH98Ic/TJtuumk2PJocERERERkWalMVJgdTceihh6Yvf/nLaYUVVkhrrbVWWnvttcfYcMMN07777puuvPLK3IMTPTnz589PO+20UzZDDz300GKZnOuvvz4bnI033liTIyIiIiJDRW2qwuTQS7Pnnnumr3zlK+nAAw9MF110UbrsssvSpZdemoeP7bHHHtn8bLbZZnmI2q9//etsQpiTQy8QPTwYlXJI20TQ5IiIiIjIMFObqjE5e+21V1puueXSBRdckIeiYVwAE/PAAw+kgw8+OK2yyippzpw56dFHH83G5Je//GV+7yc/+ckiCwYAf//sZz9Ld999dz7eddddl2688cZ0zz335NdLU9TL5PA+7/30pz/N+3Es6hT79SLqQG8Tc4UYSkf5cOedd+b6Y9Biu9iHstkeODeOe9ddd+WhdHDHHXekxx9/fGzf5nHD+FE+x2Efzvvmm2/Odedaxnk19xURERGR4aU2VWFy7r///ryAwPLLL597cOipife4IcewXHvttWnddddN6623XrrllluyIaBXZ5tttsnD1bixZ1vAILDNkUcemTbYYIM8DO4zn/lM+upXv5o22mijNHfu3GweKINj9DI5vH7vvfemI444Ih8XI7Zw4cL8etSvSdQXo3L++eenXXbZJZuzz3/+8+lzn/tcWnPNNdPuu++eLr/88vTYY4/lstiH42FMOMbOO++c96X+66yzTt73s5/9bDaBDNujrk2zxe+YIq4T1/IHP/hB+uIXv5j3+9a3vpW22mqrdNJJJ2WzE4awrLeIiIiIDC+1qXqTAxgAemEwCN/73veyueEmn+FsGAiGuIUxoSeD3osddtghrbbaannOzo9//OO8gAHmZvPNN0/f+c538hA4elgwGW0mJ4zK4Ycfnr75zW+m9ddfPxuP6A0p61dCWew/b9689P3vfz9tsskmuQxWgGOhBAzOGmuskWGhheiVinPk+F/72tfy0DyMCT1XzFfC/FCHpZZaKm299dbZxIVZAepF/Vg8ATO4zz775HMGrg+vrbjiirlHjF4pjtlWfxEREREZPmpTNcPV+vXkXH311XkRAnpUbr311mxyWHWNuToYgeih4AYeg8O2xx57bB6uhgGgTIbBMYQLo7HMMsukww47LJsM9itNDqaL1zElyy67bDYkzBNi//F6QHiPbY455phssLbbbru8WAJDzKgvw9co+7zzzss9TJigc889d8w4cV1WWmml9IEPfCAbHM4Zo8XwOurD+7xe1p1jUjY9OBg4TBV1xWhxPN6jx4h6/OhHP0qrrrpq7pnqdy4iIiIiMjzUpqrm5NBLc/HFF+fhZhgPemW4UeeGnd6IlVdeOR1wwAH55h7TgsmhdyJMDmbhtNNOyz0+LGSAoaDHgpv5gJt+jM4WW2yRdttttzxfheOEyWE4G8tZn3766Wn11VfPPSA8PwejgREZzxhQzm233ZaNGOVQP86lPD5lMKyMelI+w9kwYmFyMHqf/vSn89CyMD+xL3XHwGCgttxyy1x3Xuf6HHTQQfn6MHQvDEwJ15EhcqxcR48QvVjUt+08RERERGS4qE3VmBx6VximxdCua665JvdMXHHFFflmnx4IDBBDuBiKhsHhBr1pcuj1wLgwH4VV2diOG/zyWPyN8cDUcBz2iZ4cenHYl7kwGBXmw4TBaZbTxhNPPJG3/+53vzu2QELbfhgXjM3s2bNzLxHmg7pyXTg+ZgUj1hxSxn70VDFcjboxXI/XqDumDfPC75ghrk8J5XON6OWi9wuzxHUoyxcRERGR4aQ2VWNydt111/ThD384mxnMBsOu6A0BfqenBzMQvRulyaF3hzJYfYzt6X1heFb04pTH4m+gDOB3tsMcYDDoRaE3BZPDUDJWbot9ynLawNQwjIwhZ6eccko2G2378RpDyKj3N77xjTwsDiPFnByeCYRZoUeozeRgyjCEnCNzcDBo0bvDcTGJ9EKdeeaZi3DGGWdkw8h5sRAB22hyREREROqgNlVjcuiB+cQnPpENDvNz9ttvv9wbwrwa5unQCxE9M9Bmcuj9YKgaQ7KYz4IpKI/TizA5lPXWt741LbHEEnkY2UQfMIoBYfWzmGtDHXuZHMwTCwrwbCB6jpi3g8nBpDFfp83ksB9GCsOHWcHkcE3otfr2t7+dvvCFL+R96elh1bkSXps1a1YeIsd8pQsvvDAPYSvLFxEREZHhpDZVOyeHG/wgelxK2kwOCxLQC0Ivx1VXXdXToDTLCpNDb8gHP/jBvPQyZdBzxBA0tmkrpwkG5JBDDsmT++k5aRsuB7xGTw7zaL7+9a+n4447Ls/T4bpM1ORwHXi2EEPc6MnBOLGiGj1JbfAe+zHsjX3L8kVERERkOKlNVZicfktIN+FmvzQ59PhQBjB/BwOAWcIkNE0GfzPEi14atsfExJwcDAZGgV4c5q3Q+8HcIHo8muW0wZAzhoSxIhvLVVN2m9HiNY5N7xX1x3RwjNLkxPLW5X5tJodt5s+fn+crsXw0iyZgEhkq14RjMNyP9znnQc5JRERERLpPbdLk/H+Tw3A2VhXjmThM5qdHJebTlPtyc8+kf4bDsZQyD+AMk8PqasyJYdgb5bCAAMaB+T2DDO3CSGA4MEgsH91mVACTwXA2eo4YSha9NuVwtUFNDoaJXhmuH+Wdc845uR7lfsA50tvFYg6sytarl0lEREREho/aVM1wtakwObxGTwYLFWBWGMbFXBfMAvvEjT7PseFYsV9pcuI5ORiH/fffPz8IlLksGB/Mw3jGAMPxyCOP5AeNsvoZDwSlrDAU1IPennimDXXggaAMVWPfyczJYT96jPidY7J6GiYmepGAet911115UQKOyzExWuOdi4iIiIgMD7Wpqjk5kzE55cNAeZ2bdybic8PPAgAMG2MRAkwKc2zowWFIGs+ZwWxQDmYCk4M5wuTw3Blev/fee7PRYWnrGLrG6+OZA97HrLA8ND0rnBern3F8ennoIcJMsVAAc3IwQRy/NDm9VlcrTU6srsZ+bIe5YgED5ubwwFDm3ixYsCAvuc12O+64Y1pllVWymcTwNMsWERERkeGlNlVhcjAVDC+jd4Jn12AUyvebhMlhcQEMAUaGlc14nZt+em/oxWEo2DLLLJNXHVtyySXTUkstlY3UzjvvnA0L81Mojxt+ej+Yz7P99tvnsiiHHh7MBstbR88PZoL3mnUKeA+jxTmyIAKLELCQAXXg+JgbhsDxMFDMHceIerNwAsPctt1221YjwnacG4sLYLowhOzH69FLxeICXJOll1567Ly/9KUv5SF8PFCVZbYdqiYiIiJSF7WpCpPDcCrmydDbwTya8UwElGaGfehxKYeS8RMDw7yW8847Ly9DfdRRR+VeFHp/Fi5cuMiNPj+Zz4PJuOWWWxYpi+0YuhZzWQYZ5sX7mA56l+g9YngYQ9cYJsecGXpsmosSsA+vcXyg/s3j8DfmjmtFXVihrdwGU8RwOHpvWN2N43FcFkPAEGIm2aZZroiIiIgMN7WpCpPDTTdEr0T5Xi+a+zT3i9cwGxgVjAs/4ya/3D7+Lmm+1+s4vYhtOR7GhIULqAN/96tz23uDbBOvUT7nzfGA39vOW0RERETqoDZVYXJERERERGTy1CZNjoiIiIjIiFObNDkiIiIiIiNObdLkiIiIiIiMOLVJkyMiIiIiMuLUJk2OiIiIiMiIU5s0OSIiIiIiI05t0uSIiIiIiIw4tUmTIyIiIiIy4tQmTY6IiIiIyIhTmzQ5IiIiIiIjTm3S5IiIiIiIjDi1SZMjIiIiIjLi1CZNjoiIiIjIiFObNDkiIiIiIiNObdLkiIiIiIiMOLVJkyMiIiIiMuLUJk2OiIiIiMiIU5s0OSIiIiIiI05t0uSIiIiIiIw4tUmTIyIiIiIy4tQmTY6IiIiIyIhTmzQ5IiIiIiIjTm3S5IiIiIiIjDi1SZMjIiIiIjLi1CZNjoiIiIjIiFObNDkiIiIiIiNObdLkiIiIiIiMOLVJkyMiIiIiMuLUJk2OiIiIiMiIU5s0OSIiIiIiI05t0uSIiIiIiIw4tUmTIyIiIiIy4tQmTY6IiIiIyIhTmzQ5IiIiIiIjTm3S5IiIiIiIjDi1SZMjIiIiIjLi1CZNjoiIiIjIiFObNDkiIiIiIiNObdLkiIiIiIiMOLVpZEzO008/LSIiQ8QzzzzTGs8D3m/bT0REJk5tGgmTQyJ88skn0xNPPCEiIkPAU0891dfkkJR/9atfte4vIiITozaNjMn55S9/mX7yk5+IiMgQ8Otf/3ogk0NibttfREQmRm3S5IiISOfQ5IiIzCy1SZMjIiKdQ5MjIjKz1CZNjoiIdA5NjojIzFKbNDkiItI5NDkiIjNLbdLkiIhI59DkiIjMLLVJkyMiIp1DkyMiMrPUJk2OiIh0Dk2OiMjMUps0OSIi0jk0OSIiM0tt0uTIUPHoo4+mhx9+OD344INj8Pdjjz3Wun0bjz/+eIZ9+sF2bWVAlDNoWeNRltVWXrzeVo822OeRRx5JDz300CLXies3aDmLU5fF2XdQ2soPpvI48tygyRkt+N4Ss5qxfSpiVi/GK3eiZfUiyoky+23TD7bjmpSxnd+5dpTVtk8bccyJ1qXXfrFv2z7j0ausXkzmGDI4tUmTI50mAiBB/J577kk33HBDuvjii9Ppp5+eTjvttHTGGWekCy+8MP9P8D7bsX1bWQEJgm1vueWWdOONN44L29x1113p/vvvf1YSoW4kmDvuuKN130G57bbb0gMPPDAWxO+999506623jr1/00035Tpw/PECPPuyDXVl/8svvzydddZZ6dRTT83X6dxzz03XXnttuvPOO3O9x7t5iOverAvwN8cor0UTbk44TuzD58N5UB7HbdtnIlA/Puvbb799kboFHJs6jHe9pNtocuqH7ycx67777suxlph15pln5thOjD/vvPPS/Pnzc/zrF7OA94hNxNS2uFBCPCJ2c+xoKIuyo14cl+3a9h+Em2++Oeca6k35xHnqRjyMbcr43zyfgPpQBteAOl1zzTU5nkceJM5fddVVY7G5maua8B5lNa9T1LdXrol63H333Yvkz8hRXMfmPuNBeW316AXHIbZzjpHr2+opk6c2aXKksxC8CGQE3iOPPDKts8466XOf+1xaYokl0oc+9KEx+Pu///u/07rrrpu3Y3v2Y/+2AEiAPuKII9K3vvWt9B//8R/pM5/5TE/+67/+K339619P22yzTTYLBNhIAATYSy+9NG2yySbps5/9bN+y2uB8fvCDH+QkRaKDo48+Oq288spj23z5y19OO++8cw7ybQaBuvA6Cfvss89Om2++efra176W/u3f/i195CMfGbtOH/3oR9OnPvWp9J3vfCftvffe+YYikmvzOvE3751wwglp1VVXHasL58j1mDt3br4WbdeX1zBTW221VVpyySXH9ltqqaXSsccem5Nhc5+JQPkkU679+uuvnz7/+c+PXXt+8lnwmXB+bddLhgNNTr3wHQ4TwU36lltumb74xS+mf/3Xf00f/vCHx2LWxz72sfydXn755dMee+yRb+6jgaUZeyIuEAPXXnvtgWIysXW99dbL8Yz4GnmD8rmh3m233XIsbdu3Hxx7mWWWSYceeuiYcbjooovSmmuumT796U+PbUfeuuCCC/L75fnEOVEXjNgVV1yR67PccsulT37ykzmex3Uizn/iE5/Idd1uu+3yNSDPEf+a1wm4TsTHtdZaa5E6cz123XXX3JjYK9fwme2///7pm9/8ZvrP//zPsf3+93//N19D6tvcrxfU45JLLsk5sN9nBRyPY2244YY5T5LrKaPtHGVy1CZNjnQSghbJjNYqEiBB/Q1veEP6/d///fT85z//WfD6G9/4xvTv//7veXtaALlJbwt+mAESwZve9KbWsuD3fu/38s8XvOAF6SUveUl6xzvekW+m99prr7RgwYKcAADjQzJ90YtetMi+sX+/v//wD/8wJytMF4mMc8bQvPe97x3b5lWvelVaccUV09VXX92aeEiO1113XU4yJLm3ve1tuc7lMQNe+9M//dP0T//0T9lIHXPMMTlpNRMT1436YIb+8R//MV+HKO8Vr3hFWnbZZfM1jpuC5r4k869+9avpj//4j8eO/fKXvzwnaVrtyu0nCuVz03DIIYfk6/QHf/AHY8cA/ubmiGvK9Wz7H5Duo8mpE76PxCziKDGLxg9iFrGw/B4HxB5iIDFrjTXWyDe3CxcubI1ZxCMauv7lX/5lrLy2OBgQt8kb5Bfyxvnnnz/WY0QP0mqrrZZe85rX5DLGK6cXb3nLW9KsWbPGepaPP/74bEjifcqkMeq4447L75fnA5wj+YpzWmWVVdI//MM/pFe+8pWtdeE14v7f/d3f5Yao/fbbL+eFtpzBdaJ3nwZCrm+U8Ud/9Ee5Ieywww7L8b+5H9eYHhxMBvkz9uXzWX311XNv0kRMDvU4+eSTc7wuz4nf2/4GPleuK0Zx++23z+aP/yfj/NRQmzQ50ikIVMCNN8ls6aWXzuaGYPq85z2vLwREkhZBnv1JEM2gy2vbbrtt3q5t/zKg8ne8x9/vec970qabbppbFAnQYXIIvL32K2mWT1JpMzl///d/P1YGSW2FFVZ4lsnhOmHkMBv0aLz97W/PN/jNY/biZS97WU6wtNyRDMuWRMoOk/P+978/1zX24/e/+qu/Sj/84Q/T9ddf/6wkyr6YnK985SvpxS9+8SLH41iLa3L4POkp2mCDDfK1ifIDrhsJmPrRGjuRpCvdQZNTHxGzzjnnnByz3vnOd+YGquZ3uBc0lGBg6NWJG3jKjLLD5HDzjoEp923G3jJG8zcx49vf/naOpzSilCYnGnna9g2a5cNb3/rWZ5kceqrK/ei9ajM5YQR32WWXfM7Ez3K/8SAfve9978vXGOPGdYnrBGFyPv7xj+d6lvv+2Z/9Wc67xHAMX1knysDkEHvJn7EvcZhrNVmTQw5sXtPxPi/gNczxxhtvnPNxmb9k8tQmTY50CgIkCYbAR6/En//5n48F0gh8bcGvDIAkJPbD6Jx44on5Zr0M8L1MDvvQCkZygHe/+93ZYJXGgeRBzwatZMwHoaeJHhFaGWM/ehf+9m//Nifksl70avz1X/91fp8WOWC/b3zjG7meGJxBTQ7nQ1BnyAHDLThe0wg2r1Ncq/J96sQNwZ577pnPJxIU5fcyOYB5wSAxzINhEWwf15if02VyKJubARI0wxZouSzrFXBefP7csJj8hhNNTn1wU3vZZZflocf0jjcbZZoxi7+bMYuGIWIWsYlYUsbENpPDPvQ+/83f/E2OvRGjaah56UtfOlY+8ZN4jynhppkGHHp3MBgRr+Fd73pXNj4vfOELx+rFeWCSyBmxHcdhiBWGjEa7iZgczomhWLvvvns+l7KewO/QvFZludSJa4whIXcQByNGj2dyOC/223HHHccaicrYHj0502lyOF8MTORKfmKI6TEqrzsGmetz8MEHPyvPy+SoTZoc6QwEKAIxCwkwD4QWpTLwccPMzTw311/4whfSl770pfyTv3md5Bfbst9f/MVf5C5+yisDfJvJIVgz/2aHHXbIARMwMhtttFEeXoC5iW25gf7ud7+bx1EzBpkgzdCp2O+AAw5IW2yxRTYHUSfKJ8ky/pr32T748Y9/nBMqSW5Qk0MiIdkw7I7gXyYqkhvJmnoz54frxHh3xjNTLuWV1/VP/uRP8jWkHqVhGc/kAMPeGB/OdaDucX35OZ0mh6Eq1IvEVya8EuqLgeQzZLGDqJsMD5qc+mCux+zZs3MsbN6sYhIwAAwLjpiFSeB7jklp5gLiGcNt4/sNbSaHePihD30o98AfeOCBOUbzk3qQP2jcirLZh+Fa8+bNy3GKHieGbpXxmp4Vjh09K+xLGcx1xNDEdhznqKOOynNO6BGhboOaHM6J82AYXdmQQ1zjWhCTuTZcI64Vc1I/+MEPpte//vXPuq7EfHIK+SIMyHgmBzgmx6YRi0bHiJ/8nO6eHH4yKgEjNWfOnHwtDzrooHxtv/e97+VcX54j/zeY5l5zVmVi1CZNjnQGgiPd+szboPUmhjEQ9AiitKhxU8+KMvwPkIQIbARrFgYgUJbJkEBIOdxYl/NO2kwO26600ko5IWE0GFLBT4ZFkQzf/OY3L1Iu44GZRE/yAraPfbgJZxgbEykxROxDKyE33Ycffnh+P7aHGANO/QYxOSQa9jvppJPyDUEcA0jS3BQwdp0bAFokWXGHxESvD4mCHjKSYfT8cJxXv/rVOVFceeWVY8foZ3L4fOj5osWPzyP2g+kyOVwjhqkwsZgbiyibzySGDPI350TyI1FOdDKsdANNTj0QE7iJpyGFxUjKoWTECIYB851miDFDtCJmEY+JQfTaErPi+83P173udTlmlXGxzeTQ0MQxWUQF8xBxmjyAgSGvxLaUSw8CMZhcRHllrAaORzwmLsc+5AdyE41V5bbE9mgAGsTksB0NchyDEQKcY2xHvOY4xFUaylh4hd4erhVD6zhv4j69MGXcpRELI3TKKafk+vB59DM5xE/iK3XgM2D7+Byn2+RQJoYNo0ne5jryedEAx4IKDClklETUlcZQGh3LRkCZPLVJkyOdgeBO4Gb4Vjn+OFrtaM0hMREYCbbsE8mDG2da5zAfZY8O5bCKGstOR0tZL5NDkMYUlHUiKZKYCbrRm0OyITlgWEgaUReI+hCM6Rmi2z3KpwySeCSMJuw7iMkhiZBoGErB8LfYDtNBgmMyJkmP5BAJh7LZl0TBSm4sHNBswSTZc07R7d/P5EB8NrT4xX4wXSaHa0f9MXdRNteWXjuGkcSNR9SNlk5aY8tWUhkONDn1QBziZnyzzTZLf/mXf7lIzGKIF/EYc0M8LWMWOYEYzApstOLz/Y596aFhoRluhombbE98aDM5xAHKKG+COQ69/AxrLXtLaChjhUqG71JmbB9w/8EIAYZOsT35gLk3NPZwjs3tA+o2iMkhRjNHkwY6zpFtOGfiNccl/nFNwtgB50L8Je6zsiSxsIzZ9H4wDI/cx7bUZTyTA8RVzCc9V+Qb9oOZMDlcI65VmDKgXIbP0SOH4Y3tuS6svse5a3IWn9qkyZHOQLc43fvMeYngTgKhZY1AO16LPK/zf8FwMxJOBN8wF3R5x034REwOdeIGvlknEhPJlCBdJkJ+57XpNDkkQ4aI/c///M8iZpAbfVq0WG1mvGNwHUiiGMI4J2CIGz0fJLHYrmly+InZw0DwO3VkfDpJJlr82He6TA6tqwxhIIlzTSmXGxRualia9QMf+MDYdQPq7pC14USTUw/ELCbAYzbKRiha4Ym7NG6N1xBB7zc956zCFTGF7zm9tdy8c/PL95v4M6jJ4XfmVLIKZGlyqBPL3z8XJoc8xpA+zOBrX/vasW2IuQwfY7tesYzXKIN5iOQBhhOXOYTzJDewDXVpMzmYTq5FxFZ6gWjEot4cl/rNpMnhfbbj3DA85BiuPZ9R1Jn7A4aHk1cmcmxppzZpcqQz0PVOouBmPYInCQ2zwAPimr0mTei5YDueFxDmgnLo7aB3I5JWL5PDMs3cnGNsgBY1hnjRcsSwgQjCJALmujBcLFrTog78TmCeTpPDeWIGGWdeJiiGqWEG+93Qkwgoi2cTlN3+JEV6veI4bSaH82GIGkmI7XktWmMZChctftNlcjChrBhE8o1yudng+nBzQw9VafwY3kFC5iaovMGR7qPJqQNiETGLxiJiVtxAYw7oeeaZKwxLGi9m8d1lmCrf8/IGl/jCa8Rp4g6xtc3k0PNLjzxmKWI79xHEt3/+539epAGLWMZCLGzTVqdeJmennXZabJNDzxWjDso4Rh6g54Jn2mCAxruRp740BBFnubYRt7kW5B+GrJFjqEubyeE4zOWMoYEcm54ShgXGUs3TbXL4SaMiQ/IYLk7jJp89vW4MCeTzIuewHfmI1U0Zms3/2Hj/QzIYtUmTI52BAMm47PLGmBtpkhg3twSwQRIhrVj0LkTA5HcSBMMhCMBtJoftGK5F8MYQAeaG3hImyRJUyzrxTACCfjOgUz8C93SaHJI0ZoYkFnUChm6QyMdrEQWOwzWgDFrBSNLsTwsevTvx/Js2k8NQDpIKc6A4HvtQTz4zbiQwXyQbepp6mZzxbgR6QZ05d24SGF8fn0fcKFEu/z98btxwxLXj+lMvhqz1uu7STTQ5dcB3F3PBM3HKVSAj3tDD0q8Bi/e4ed96661zj3PEFOIAiwdQRi+TwzasdMZiNtwkEyPo/aFRi9gWMRqIVzy3hwYs4mhbnaazJ4frwEqbLCoQPV7EXvIBMa5fAxbvUQY3/RiYMJRAHRnSjaGkLk2TQ8zkOPQi8aDPMFmUQQMaJo4GKhqMptPkAPNMyU0M2eMz4vOL1U75v6Fni3mkLLjAKI1yZVBZPGqTJkc6A0uLkogiOQGJhFYkWrDa9ikhwNPKRA9FGBgCJ2WQlCIAt5mcOBa9Ptw0s7oLS4zyWpkoCK60RpIsSNzNhMPfBO7pMjnUH5NDsiYJRL0gerxobWsrP+A4lEFLWblCGQmehMuYbxJlm8nhejDsgUm8jP1mfH3ctJCAGDKGmWRoylSaHM6bBM+NEokv6sONAAs8UB8+V8bn0woY71M3zpEhbpxz8/OS7qLJqQO+uxgUTEAZL4gHTIinhb6XoSjh+8v3n5v1iCkYGIZTYQw4DrG1aXKIo/T88gBJ4jrxnYYrRgzEPEsgDsYCAjSWUZ+2Ok2nyaGBCINCA1LUn/LZh3hNGf2uE/Ef00dcLBvniM/E81hQoWly+EnsZO7rvvvumxfKiesTnxX5hfg+3SZnPDA55AA+A/IpOZ8GsLbyZeLUJk2OdIY2k8PQhBhu1LZPCcGfJIMpYqw2+xM4CcCsEtPP5PSCMkiABFeSD4k2hmW11YHA/VyYHIbQ0WMxiMnBMJDMMDClyaE3K4YG9jI59G7xWXEsVrqJ4SOUw7b77LNPvulgRaQ2kzOZ4WokMYYu0PpKb1KUybX5/ve/n3v6uElgdTgWruD12IaePHoI2x5cKt1Fk1MHEXOZL1maHIbK0mDC8CxiVr+bd2LWXnvtlcuI7zY38fR6EG8i9jZNTj+oD3GKmMszx8gTvWI09DI5UzFcDZNDjmBJ/6g/cZW5SCxJTRn9rhPXkhhO/pmMyWE0ALmGhylHTz+5iGFrzNnEQE23yYmcS/1LOB7XhWOT73iOEAsODGKSZTBqkyZHOgMBkmFlZesawZOhYbQeEcTGC2TcwPK/wVLQtNJFsCQ407sTZfQyOWxLQCe4BgRWkhk373Thk2jiZrmtLrxG4G4zOYwlnqrhamxDq2RZf4Z+kDAI+G3lBxyHIQuMO2d+Tdx0xPCR8Yarhcnhs8Ks0KNFgqJHhfpiZDAZ3NAwjCSGXMBkTU5cU5JruVgCdaK3jSXHY7gCny3JmZbaOC51YIgbPVT9ro10B01OHfD9bRuuxpAkblSJlXy/2a5t/4CY9aMf/WisAQuIzwxHZcn+iBNtJqcttgN1oGeHIWr0xGC4+g2dY1TBdJkcjk2vNL0wkQcpnwVViMWYoH4mgnI4DkaJc4zj0Es13nA1fmJy2JdteFQDjxuIeZuUxXUld5KTMU1ljppKk8OQcPIO14Y5tjQuUlfiPYaUupJPaDhk0QEatwYxytKf2qTJkc5A8mBVG5JHBDxMAj0CzPHoF8QImAx9wFzExHSCIcMUWG6Z3hf2bzM5HI9hTSwnikkKGH7Fvoz7pfei3+RG3qMe02lyMB/0wlDfqD8wvIBhBoPUkeEYPOiUcc1xnGhZjQmm45kc6kJCxvBtvPHGeZhf1IOWVoaQkJjLG43JmhySJq2PLGzADUncJJHsSLoM78DkYP74bFlNjRuJMmkynptWP7ZpO4Z0D01OHRBviCXEUGJJ3HhjUJhrwbNq+F72i1lMQCcex3xLoMGDxifiPtsQW5smh+MRn2h0IY5GbMeo0DNB7xDxGiM2SE/vdJocYMU3YmzkDuIYBoXhwcTO8UwE14BrSW86OSRiJdea5aA5Dj1i1GU8k0MeIuayKAR5K64l5iOMR5k7FsfksBgCPVVRFj9ZPZP5V6yoRy8dxo/cSd6moSuuDefH/xAG1Xk5U0Nt0uRIZyCoMu6Y3gWCMkGMJEYQ4/VYHa1tX4Ib7xOU2T8SKYEbM0DQZ7Uctm0zOQRLnsNAgiGRANuRMDANJJ9evTclkWin0+SwP61stPaVJgIzx00AxqOXIeQ1zAkTa2m9LJeQJmmxPzcTYabGMznR8kgPC+YojCUtkJRFvWM/mKzJoS601DEsrXzYKz00/G/wADwmEpMU+cly1pihOC6wOh5DIYkdg9zIyHOPJqceiFnNnljAsNBIQi97r/jKa8SiiHnlzX8MZ445NBynaXKIR/QYsSgKDV3EH3IFvRXEW/YhXpJD2o7fZDpNDteAobeMaIjygXOmsY8hwr16mniN/WmkIlYygiFiJQ1YXANWvWR/6jKeySHncU2I86xmSe8ZZbENRoeymyMupqonh2PQQ4PBwZBRD+D6cH3pEaSnvjw35n/G3K6248jg1CZNjnQGAh5BnGBcDnMiiLG0Ma05JKW2fXmd97kB52Y69qUchjMwRjkCYJvJwYRwE0xQJ1k0aR6vF2zLebSZnKlaXY0kgpFhnglLfcY50LPBoggYwl5zhrgGJKJ11103d/3HMUjU9HbQqhmtqv1MTtwYcLOAuSx7big3yg4mY3LietJbww1Os0yuK58xQ+2Aa0DyjRbMgM+B1kdMLAm87VjSLTQ59UDcwoiU5gD47jIPkPjRqxGLmMXzUeh5prEiYhHffXqvGYIVMYtY0TQ5HIPn5DCkjZjFdkHzWIPA/cd0mRzqRH4iDpcrX3LOxGuG4hK/OY9m+cRiYiv1aD4vDJNCzOcxDWxHXfqZHMokH2FOWcUs8mpbbJ9qk8M1oh4YsnJ7/mZ7GgzLepOj+Nx73R/I4NQmTY50BoIjCwzQLU9QLoMYN/MMJeOJ/DwTgZt4kgFJhVZ+AtzSSy+dH6AWwZKfDFPg6dXlc1J6mRyCdPNhoBMlEu10mhy2o4WL4R9085ctoyQiJuJSBiuc0SvD+ZL8uMkgQTBEo+wtA4zkcsstl+fjxI3AICaH7fjJogDMeyLZR5lNwuSMdyPQJEwUY/ExYW3lDgI3CwyjYygb14N6tx1PuoMmpx74HhNPMDMYEOJhfDeJPZ/61KfycFJiFrEaw0PMooeHXmcWk+H7X8YsenWJWbTgRywitvYyOdysRw5YHHr15EzF6mqcAzfyxGFWM6PXJLbjOIxKoGeFc+HaRK8U14x9iPsYhvI5YuQHrge5k/wS12kQk8PnxggL4jbGqbz+JTNlcjCzDG8s8yPbk88Yqs3/WLm9TJzapMmRzhABPlbmIvlFICPAYxhouWOlNJ7xwg04P5kESVBk+wjYQKCnHIJoJBCOM+wmh21J6qwqQ/JnmFqcN/vQo0ErIKaP86RVkPksPP+A3hDOu0xWJEGOVw4JhEFMTtSbz41VeZjgXw6hK5mMyeEYHIshaAyRiLLi/4H6MGSlCdeMScXl/wOvcb34jCeSiOW5QZNTD8QIvnPMa2QFM4apRXzjJz2wLKRCbJk9e3aOWZgehrIRs2i8KhtzMC7EfEwTN+ERs4itw25yuE7kKHIbpqYZq1lUh9zCtSGus4AMz/5hkQAa9TjvuLbkHXqA6AWLIYFRl0FMDhCDaVhkKHPZiFgylSaHnywRjWmhAZN604hG3KY3jqF4sbAQUG+GLbMokD05i09t0uRIpyBAkrSOOOKI3LqHcYlgBgR8bpa54SXg8pNtygQI3OAy/ptWHyaUloG3BpPDthgLhl/x8NN4QnWcD4mXa8ANPzcUQDkk/OZ2TPJkhRq+V2X5g5qc2J5WRZIudW9r8ZuoyYnrwVA1eqzKMklytHTSK4V5K+EhrrR2MuyxHJfOufOZYKKbLYTSPTQ59cHNM0OSWSygnLgOEbN4PWIWvTV8b8vtuInn5p8b+4hZxAogtg6zyYltia3c3DM8rdnrzrXgnLg2cZ24Zlw76hLb8TsLFtAoGHNxuEZRl0FNDvuQC+hRIydznDhGMJUmB7i2XCfiNXEcMLuYH2J6eZ406vE+ObdXbpXBqU2aHOkUBFQSEcOsmGDIzS03x2UAHA+2w1gQNGkJjEn0EdyhBpMDJBO67ykT40HwbzMXbVA2NwG0/DFW+9JLL12kXpHYBjU5QJKmHHpdSLzNzyxMDmao3K8XYXi5eWDp2SiPBEcCpOeJ3iziQQk3IXyOLC1Nzx/Xnv3YnwmrjFlnCFz5PyHdQ5NTH3zniFksAkAjBbEtvp+DED0+DGlmnk5pDCL2TrfJIcZMt8nhXDAlDMVjEQLidLMhbzy4psxfYjl/GnUY3lzGO+oyqMkBrhvnxtBvTFcztk+1yeGa8lmTPwPMVfMasN073/nOsdVTp+LzHXVqkyZHOgnBipthkuEyyyyT5+jQYkPwbgZY4HWCIMZl2WWXTXPnzs1Dr9qCXpgc1vkv959ukzNVq6uV+5BQWDWOHh2GgZCkGKZHMmi7TiQFJubTC0ZPF6aDoQDUqUyC/N5mcqhLL5PDPiTHefPm5Ymq3FyUx56oyYlhEqx613wAKNeDoQy9khqvM0adeVxlPSgHE8bn3Ky/dAtNTp1E4wwxkuGj9MpEb3yvmMV3mN4KWuxp/KKXoxlHI/aGyYkb4qk2Oc2eHGIjQ4YHNTksDlOeX5vJAc4Ho0Os4rljPCuG2Ef8jnhcwmsYO+Isw7fo0WaOE3G8jO1AXTA5NCJGWfzsZXLYn3iJ6WKBnrKHHIirU2lyxiPOk9zKPC0ML7mA69c8T5k4tUmTI52FYEmLO8mQiecMcaAViUBP4gICPpMzCXaswMZ23PCzH/u3BT1MDtsxbyXKIWAycZ6egeb2E4HjEbgZksFzGUjMUT6Jl2Uxeb/Xvpic6IGgJYt9GYpGYiHZtSVpzpOkxNKhPD+HBEzS4NhRBvA7LY6YL1rkmENDTxfJq3md+JvkyET9j3zkI9lgRl0wnW0mgX2oCyu/xUIBnHccn8RI79qgJocET/LnmTsYtzgHlocm6WNieyVU6kI9GO7BOcd14MaEGyVW22smcukWmpw64bsJxDpiFvNquEGmEYiYRUyPmMH3nu8vjSbctNMrwST7XjGL2ErDGMOquNmnDPIDDTMsQT0VJof7D5atp5GM8mlcIyb1G4pL3ag/q8mV58gwLFYGbZoc4Jx4HWNF7mC5bOJ3NPqxP2UR3+i5IVYzZ4VebmI0Ma55nYC6EANZcTLK4Sf7U8e22Eg5NKhhItmP6xrnwLHJnzR+9YrJbVAP5tlg4Mpc1QvqSEMm5oxFJ5i7RUMYuWIix5Xe1CZNjnSeCK4MT2CFGJJJPBOFh4cy/IjXeZ/5N21BvYSAyJOteXYOrW/sT+8JLVvxLJ3FgURKsqPXBsPCMSif+UHcePdKtJHQmJyLWaFe7IsxoBWSuo0XyNk/Wv4wMOxHjxXXCfh9zpw5OblRv/F6MqIutMwxobOsCwm5V11iP1paOV/OO/blWpCQBjUX1I+kyfHjcwISOPXqZRaBenAchs9xExV1YDJvfA5tNxXSHTQ59RPfUxqXmHtHfNlmm23GYhaLEBCzzjrrrIGGI/E+q0hyI07s4TtPviAexvLJbftNBIZ+YZiY8B9xiUnyxBqMW9s+QN24dyFX0UgT8Yy6YmL6nRvxkEYp4jeNT8xJiuvENaM+NApx/uSBtjICjsX1ZO5rxEZ+smIndeyVG7h+NFJxHK5r7MvnRv5szn/tB/XgnLgmUYc2eC/e59zpbaL3JpYObytbJkdt0uRI5yGIAcGT4MvNLYmGG21+kiR5nfdj27ZygrKsEgJuv30HIcqnvGb5Ucde+7XVjf2ibr32heb+3MTTG8N1An7ntX71gGZZzfrE+732ZT+2a+7b77gli1MO78X+zX0HOX957tHk1E/zexoxi5tXwDRM5Ds7E995ymiLSbw2XvlRt7Z9J3Ju7M91Iu/FdSIPDhrboVdd+u0/3n7A+/2OXRLbN8vrR1nPiRxP+lObNDkylERwM8iNj9dJhhVNzmhizBqM5nXyWslUUJs0OSIi0jk0OSIiM0tt0uSIiEjn0OSIiMwstUmTIyIinUOTIyIys9QmTY6IiHQOTY6IyMxSmzQ5IiLSOTQ5IiIzS23S5IiISOfQ5IiIzCy1SZMjIiKdQ5MjIjKz1CZNjoiIdA5NjojIzFKbNDkiItI5NDkiIjNLbdLkiIhI59DkiIjMLLVJkyMiIp1DkyMiMrPUJk2OiIh0Dk2OiMjMUps0OSIi0jk0OSIiM0tt0uSIiEjn0OSIiMwstUmTIyIinUOTIyIys9QmTY6IiHQOTY6IyMxSmzQ5IiLSOTQ5IiIzS23S5IiISOfQ5IiIzCy1SZMjIiKdQ5MjIjKz1CZNjsiQ8vjjjz+Ltu1EhhFNjowqxnR5rqhNmhyRIYBk99hjj6UHHnggXXvttenEE09MBxxwQNp1113TjjvumHbbbbd00EEHpVNPPTV/Px566KG8vUlShhVNjowCEdvvvvvudPnll6ejjz467bvvvmnnnXdOO+20U9pjjz3SEUcckc4555x06623pkceeUQDJNNGbdLkiHSYSGYPP/xwuuWWW9Lxxx+fDc2sWbPSJptskjbccMO0/vrr55+bbrpp2mqrrdKee+6ZTjvttHTbbbelRx991GQoQ4kmR2omYjsNV/Pnz09HHnlk2mGHHdIWW2yRNt5447TBBhvk2L7RRhulzTbbLG2zzTZpzpw56fzzz8+GyEYsmQ5qkyZHpMOQxB588MF00UUX5ZY9zMzs2bOz2bn66qvTXXfdle6777505513pssuuyzNmzcvbb311jkx0gJ41VVXZYNkMpRhQ5MjNUNMvueee3KDFDEbY0PP/BlnnJGuu+66bGTuvffe3LiFsaGnfvPNN8+NW4cddli66aabciNWW9kik6U2aXJEOgzDzq644orcirfKKqtkE3PjjTfm1r9y2AKtepgZXl+wYEFu8Vt55ZVz0uRvtm0rX6SraHKkVojZ999/fzr99NNzg9S6666bzQ6NVcT86IEvYzuNWZdccknu7Vl99dWz6bnjjjvy+23HEJkMtUmTI9Jh+F9neNoaa6yRjjvuuLFhCm3bAkmRBMlQNcZxr7baatnwkDzbthfpKpocqRViNI1XDDGmd56eGhqo+hkWzM4NN9yQe/WJ7czNxPy0bSsyGWqTJkekg2BWaNE76aSTckvf3LlzJ9RqRxK9+eabs8Fh/wsvvHCs56dte5GuocmRGiGG01i1//7757k2LBZDr86gsZk4jkHaZZdd8txMeuop09guU0Ft0uSIdBCS1vXXX5923333PFQNwzKowQkwOszbIZEytIEy2rYT6SKaHKkRTMrFF1+cDcp+++2XDc9EDQoNYKy2xsIE9PAzt0eTI1NBbdLkiHQQDM0pp5ySV0tjHg5DGdq26wcLExx88MF5YitDItq2EekimhypERaSISbTeHX22Wfnxqi27frBfRBzLhm6xu+aHJkKapMmR6SDYHJIhIzZvvTSSye9cADm6LzzzkvrrLNOXpHtpz/9aet2Il1DkyM1wtC07bbbbsycTLSHPqAHiGfqMKeHVTQ1OTIV1CZNjkgHoXWPoWoMR2ARgckmQvbj+7LSSiulww8/XJMjQ4MmR2qEhQKI6yzxP5G5OE1YhOCss85Kq666am4I0+TIVFCbNDkiHQRzwsTS9dZbLy1cuHDSCYz9eEr28ssvnw455BBNjgwNmhypEUzO2muvnR/avDiLwdAQxhDkFVZYIc/x0eTIVFCbNDkiHYQERksfT73mYXCT7cmhHB4sxzN2WFJakyPDgiZHagSTwxAzeup52OdkzQmLD/DgUJaStidHporapMkR6SCYE3pemJPDA+AWZ07Oueeemx82d8IJJ2hyZGjQ5EiNMERt9uzZeU4Oz7xZnDk5Rx11VH5EAKtoanJkKqhNmhyRDkLio5WOVdGYSzPZ1dV4CCjPY2Ci60UXXaTJkaFBkyM1wupqxHRi++mnn54btNq26wcGaYcddsgPi77ppps0OTIl1CZNjkgHIWHxf864bZaR5veJJkN6fy6//PLcG3TooYfmuTkmQhkWNDlSI8RxhpcR1/fee+/cEDWR3hxiOEaJRjAWMDjxxBMXa9ibSElt0uSIdBASFiaFZ+UwHAGTcvvttw+cDEmktO6RRNmfIW+8ZiKUYUGTIzVCDMaUHHDAAWmTTTYZMymDxPbIC5dddlnuxcEo8dDoyQ55E2lSmzQ5Ih2GRQf22WeftMYaa+QhDhidfj06JEGGMjBMbfXVV0+HHXZYXqGtbVuRrqLJkVohhl9zzTXZpDBfksYs5tj0MysMW77yyivz8OM111wz9+Ywx6dtW5HJUJs0OSIdhmch8KA3no694oorprlz56Ybb7wxJzveIynSusdPVtsh4S1YsCDtt99+eXvGa9PSN9mFC0SeKzQ5UivEbGL4mWeemXva11prrWx07rjjjjwUjXhNTAcMEbGdVdlYKppFC3g2Dg+LnuhQN5F+1CZNjkiHIRliZubPn58OOuigPAabOTasvHbBBRdkw8PDQvlOnH322WnOnDl5eVKGQbBkNO+TMCmnrXyRrqLJkZoJo8OCMDRG8Uy0LbfcMh1zzDF5ONrNN9+c51Fee+212QCV25x88snZEDkEWaaa2qTJERkCMDoMXSO58fycWbNm5RbAddZZJ7cC8hNjw/AHhrfRQsjQNntwZFjR5EjthNGh9/3oo4/Oy0pvvvnm+floPDCU2I6xoWFr2223zY1bmKJBhraJTIbapMkRGSIwLSwoQK/NvHnz8uRVhqYdeOCB6dhjj81PwKZnxwQow44mR0YFlvbH7PDg5tNOOy33wjOnktiOseEZZ6zIhrmx50amk9qkyREZIkhwMU4bMD0lvMb7JkIZdjQ5Mkr0i+0R143tMp3UJk2OiIh0Dk2OiMjMUps0OSIi0jk0OSIiM0tt0uSIiEjn0OSIiMwstWlkTM6TTz6Zk6GIiHSfp556aiCTQwPWz3/+89YyRERkcGrTSJgcIBmKiMjw0M/k8D7b/fa3v33WviIiMjFq08iYHBERERERaac2aXJEREREREac2qTJEREREREZcWqTJkdEREREZMSpTZocEREREZERpzZpckRERERERpzapMkRERERERlxatNQmpyFCxe2fjgiIiIiIjJxatNQmhweWPSb3/xGRERERESmgNo0lCZHKaWUUkoppXpJk6OUUkoppZSqSpocpZRSSimlVFXS5CillFJKKaWqkiZHKaWUUkopVZU0OUoppZRSSqmqpMlRSimllFJKVSVNjlJKKaWUUqoqaXKUUkoppZRSVUmTo5RSSimllKpKmhyllFJKKaVUVdLkKKWUUkoppaqSJkcppZRSSilVlTQ5SimllFJKqaqkyVFKKaWUUkpVJU2OUkoppZRSqippcpRSSimllFJVSZOjlFJKKaWUqkqaHKWUUkoppVRV0uQopZRSSimlqpImRymllFJKKVWRUvp/krXJoIxrDYQAAAAASUVORK5CYII=)\n",
        "+ One option is safe and it yields a fixed medium outcome (i.e., 3)\n",
        "+ The other option is risky, and it yields a high outcome (4) with some probability 0.8, and a low outcome (0) with the complementary\n",
        "probability 0.2"
      ],
      "metadata": {
        "id": "uSDbym9zVRmx"
      }
    },
    {
      "cell_type": "code",
      "source": [
        "! pip install --upgrade pyibl"
      ],
      "metadata": {
        "colab": {
          "base_uri": "https://localhost:8080/"
        },
        "id": "4_hKlbMOVS9y",
        "outputId": "fb8847e0-53eb-47b3-f452-3750a00d78b3"
      },
      "execution_count": null,
      "outputs": [
        {
          "output_type": "stream",
          "name": "stdout",
          "text": [
            "Looking in indexes: https://pypi.org/simple, https://us-python.pkg.dev/colab-wheels/public/simple/\n",
            "Collecting pyibl\n",
            "  Downloading pyibl-5.0-py3-none-any.whl (18 kB)\n",
            "Requirement already satisfied: packaging in /usr/local/lib/python3.8/dist-packages (from pyibl) (23.0)\n",
            "Collecting pyactup>=2.0\n",
            "  Downloading pyactup-2.0.9-py3-none-any.whl (18 kB)\n",
            "Requirement already satisfied: prettytable in /usr/local/lib/python3.8/dist-packages (from pyibl) (3.6.0)\n",
            "Collecting ordered-set\n",
            "  Downloading ordered_set-4.1.0-py3-none-any.whl (7.6 kB)\n",
            "Collecting pylru\n",
            "  Downloading pylru-1.2.1-py3-none-any.whl (16 kB)\n",
            "Requirement already satisfied: numpy in /usr/local/lib/python3.8/dist-packages (from pyactup>=2.0->pyibl) (1.22.4)\n",
            "Requirement already satisfied: wcwidth in /usr/local/lib/python3.8/dist-packages (from prettytable->pyibl) (0.2.6)\n",
            "Installing collected packages: pylru, ordered-set, pyactup, pyibl\n",
            "Successfully installed ordered-set-4.1.0 pyactup-2.0.9 pyibl-5.0 pylru-1.2.1\n"
          ]
        }
      ]
    },
    {
      "cell_type": "code",
      "source": [
        "#importing the libraries\n",
        "import pyibl\n",
        "import time\n",
        "import random\n",
        "import numpy as np\n",
        "import pandas as pd\n",
        "import seaborn as sns\n",
        "import matplotlib.pyplot as plt"
      ],
      "metadata": {
        "id": "uo_Wv3HEVeu5"
      },
      "execution_count": null,
      "outputs": []
    },
    {
      "cell_type": "markdown",
      "source": [
        "Task\n",
        "•\tOption A: The probability of receiving 500 points began at 1 and decreased by .01 on every trial. \n",
        "•\tOption B: Always receive 250 points. \n",
        "\n",
        "A.\tDevelop an IBL model using PyIBL tool that makes a choice between option A and option B. Run 100 simulated participants, playing 100 trials of the defined task.  Please explain your model and discuss various parameters (decay, noise, pre-population). – 10 points\n"
      ],
      "metadata": {
        "id": "MNQXxgUHV1LM"
      }
    },
    {
      "cell_type": "markdown",
      "source": [
        "## Run a complete model\n",
        "\n",
        "We have run one trial for the binary choice task, which includes choosing one option, observing the reward, storing the instance (respond). To conduct 100 runs of 100 trials, we use two for loops as follows:"
      ],
      "metadata": {
        "id": "TMBa1QIiVs2X"
      }
    },
    {
      "cell_type": "code",
      "source": [
        "from pyibl import Agent"
      ],
      "metadata": {
        "id": "xN5FjJ36WAsk"
      },
      "execution_count": null,
      "outputs": []
    },
    {
      "cell_type": "code",
      "source": [
        "# Set global variables\n",
        "PARTICIPANTS = 100\n",
        "DECAY = 0.5\n",
        "NOISE = 0.25\n",
        "TEMPERATURE = 1.0\n",
        "#DEFAULT_OUTPUT_FILE = \"box-data_Signaling.csv\"\n",
        "TARGET_COUNT = 2\n",
        "TRIALS = 100"
      ],
      "metadata": {
        "id": "ll8t_VvYWt80"
      },
      "execution_count": null,
      "outputs": []
    },
    {
      "cell_type": "code",
      "source": [
        "def reset_agent(agent, noise=NOISE, temperature=TEMPERATURE, decay=DECAY):\n",
        "    agent.reset(False)\n",
        "    agent.noise = noise\n",
        "    agent.decay = decay\n",
        "    agent.temperature = temperature\n",
        "    agent.trace =False"
      ],
      "metadata": {
        "id": "9_mrOC-AWmze"
      },
      "execution_count": null,
      "outputs": []
    },
    {
      "cell_type": "code",
      "source": [
        "a = Agent(default_utility= 550, decay=0.50, noise=0.25) # define the agent\n",
        "options = ['A','B'] # A is the safe option while B is the risky one\n",
        "a.trace = True # True if you want to look at the activation, Probability of Retrieval and Blended Values\n",
        "\n",
        "\n",
        "# Define the reward function\n",
        "def reward(choice, prob):\n",
        "  if choice == 'A': # Safe\n",
        "    r = 250\n",
        "  elif random.random() <= prob: # Risky\n",
        "    r = 500\n",
        "  else:\n",
        "    r = 0\n",
        "  return r\n",
        "\n",
        "\n",
        "runs = 1 # number of runs (participants)\n",
        "TRIALS = 100 # number of trials \n",
        "average_p = [] # to store average of performance (proportion of maximum reward expectation choice)\n",
        "average_time = [] # to save time \n",
        "c_a=0\n",
        "c_b=0\n",
        "for r in range(runs): # Participants\n",
        "  prob = 1 # Probability \n",
        "  pmax = []\n",
        "  ttime = [0]\n",
        "  a.reset() #clear the memory for a new run\n",
        "  #a.populate(550, 'a')\n",
        "  #a.populate(300, 'b')\n",
        "  for i in range(TRIALS):     \n",
        "    s = a.choose('a', 'b')\n",
        "    if s == 'a':\n",
        "      c_a += 1\n",
        "      a.respond(np.random.choice([500,0], size=(1,), p=[prob, 1 - prob])[0])\n",
        "    else:\n",
        "      c_b += 1\n",
        "      a.respond(250)\n",
        "                \n",
        "    prob = prob - 0.01\n",
        "            \n",
        "  print('choice a, choice b',c_a / (TRIALS * PARTICIPANTS), c_b / (TRIALS * PARTICIPANTS))\n"
      ],
      "metadata": {
        "colab": {
          "base_uri": "https://localhost:8080/"
        },
        "id": "Df0UGpr6Vukl",
        "outputId": "228ddac7-ba1b-42c1-c207-05eca00f9171"
      },
      "execution_count": null,
      "outputs": [
        {
          "output_type": "stream",
          "name": "stdout",
          "text": [
            "choice a, choice b 0.0 0.01\n"
          ]
        }
      ]
    },
    {
      "cell_type": "code",
      "source": [
        "plt.plot(range(TRIALS), np.mean(np.asarray(average_p),axis=0), color='darkgreen', markersize=2, linestyle='--', label='PyIBL')\n",
        "plt.xlabel('Round')\n",
        "plt.ylabel('PMAX')\n",
        "plt.title('Performance')\n",
        "plt.ylim(0,1)\n",
        "plt.legend()\n",
        "plt.grid(True)\n",
        "plt.show()"
      ],
      "metadata": {
        "id": "q6QePMThtri3"
      },
      "execution_count": null,
      "outputs": []
    }
  ]
}