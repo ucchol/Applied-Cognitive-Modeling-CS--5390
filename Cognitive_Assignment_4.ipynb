{
  "nbformat": 4,
  "nbformat_minor": 0,
  "metadata": {
    "colab": {
      "provenance": [],
      "authorship_tag": "ABX9TyMYm/qzj4Emz2msSrOdsyVH",
      "include_colab_link": true
    },
    "kernelspec": {
      "name": "python3",
      "display_name": "Python 3"
    },
    "language_info": {
      "name": "python"
    }
  },
  "cells": [
    {
      "cell_type": "markdown",
      "metadata": {
        "id": "view-in-github",
        "colab_type": "text"
      },
      "source": [
        "<a href=\"https://colab.research.google.com/github/ucchol/Applied-Cognitive-Modeling-CS--5390/blob/main/Cognitive_Assignment_4.ipynb\" target=\"_parent\"><img src=\"https://colab.research.google.com/assets/colab-badge.svg\" alt=\"Open In Colab\"/></a>"
      ]
    },
    {
      "cell_type": "code",
      "execution_count": 1,
      "metadata": {
        "colab": {
          "base_uri": "https://localhost:8080/"
        },
        "id": "M6SVa0sRcxAP",
        "outputId": "b3a0e4d2-4325-4b3a-9bb4-2fa23f3634cb"
      },
      "outputs": [
        {
          "output_type": "stream",
          "name": "stdout",
          "text": [
            "Looking in indexes: https://pypi.org/simple, https://us-python.pkg.dev/colab-wheels/public/simple/\n",
            "Collecting pyibl\n",
            "  Downloading pyibl-5.0-py3-none-any.whl (18 kB)\n",
            "Requirement already satisfied: prettytable in /usr/local/lib/python3.10/dist-packages (from pyibl) (0.7.2)\n",
            "Collecting pyactup>=2.0\n",
            "  Downloading pyactup-2.0.9-py3-none-any.whl (18 kB)\n",
            "Collecting ordered-set\n",
            "  Downloading ordered_set-4.1.0-py3-none-any.whl (7.6 kB)\n",
            "Requirement already satisfied: packaging in /usr/local/lib/python3.10/dist-packages (from pyibl) (23.1)\n",
            "Requirement already satisfied: numpy in /usr/local/lib/python3.10/dist-packages (from pyactup>=2.0->pyibl) (1.22.4)\n",
            "Collecting pylru\n",
            "  Downloading pylru-1.2.1-py3-none-any.whl (16 kB)\n",
            "Installing collected packages: pylru, pyactup, ordered-set, pyibl\n",
            "Successfully installed ordered-set-4.1.0 pyactup-2.0.9 pyibl-5.0 pylru-1.2.1\n"
          ]
        }
      ],
      "source": [
        "pip install pyibl"
      ]
    },
    {
      "cell_type": "markdown",
      "source": [
        "# 1. Please develop the Instance-Based Learning Model for the Prisoner’s Dilemma. Assume that the two players are not aware of each other’s actions and outcomes. The PD matrix is defined below.\n",
        "a) Please explain how you developed the model. The explanation should include description\n",
        "of agents, pre-population process and the other model parameters. Please submit your\n",
        "code for review. -- 40 Points"
      ],
      "metadata": {
        "id": "z-yBWqShe1-W"
      }
    },
    {
      "cell_type": "code",
      "source": [
        "import pyibl\n",
        "import matplotlib.pyplot as plt\n",
        "\n",
        "# Set global variables\n",
        "PARTICIPANTS = 100\n",
        "DECAY = 0.5\n",
        "NOISE = 0.25\n",
        "TARGET_COUNT = 2\n",
        "TRIALS = 50\n",
        "def reset_agent(agent, noise=NOISE, decay=DECAY):\n",
        "    agent.reset(False)\n",
        "    agent.noise = noise\n",
        "    agent.decay = decay\n",
        "def run():\n",
        "    agent1 = pyibl.Agent(\"Agent1\", optimized_learning=False, default_utility=15)\n",
        "    agent2 = pyibl.Agent(\"Agent2\", optimized_learning=False,  default_utility=15)\n",
        "    a1_c = 0\n",
        "    a1_d = 0\n",
        "    a2_c = 0\n",
        "    a2_d = 0\n",
        "    c_c = [0] * TRIALS\n",
        "    for p in range(PARTICIPANTS):\n",
        "        reset_agent(agent1)\n",
        "        reset_agent(agent2)\n",
        "        # Populate instances for t=0\n",
        "        #agent1.populate(0, 15)\n",
        "        #agent1.populate(1, 15)\n",
        "        #agent2.populate(0, 15)\n",
        "        #agent2.populate(1, 15)\n",
        "        \n",
        "        for t in range(TRIALS):\n",
        "            player1 = agent1.choose(choices =[\"C\", \"D\"])\n",
        "            #warned = 0 # Signal\n",
        "            player2 = agent2.choose(choices =[\"C\", \"D\"])\n",
        "            #covered = selected == COVERAGE[t]\n",
        "            payoff1 = payoff2 = 0 \n",
        "            if player1 ==\"C\" and player2 == \"D\":\n",
        "                payoff1 = 1 \n",
        "                payoff2 = 1\n",
        "                a1_c += 1\n",
        "                a2_c += 1\n",
        "                c_c[t] += 1\n",
        "            elif player1 ==\"C\" and player2 == \"D\":\n",
        "                payoff1 = -10 \n",
        "                payoff2 = 10\n",
        "                a1_c += 1\n",
        "                a2_d += 1\n",
        "                c_c[t] += 1\n",
        "            elif player1 ==\"C\" and player2 == \"D\":\n",
        "                payoff1 = 10 \n",
        "                payoff2 = -10\n",
        "                a1_d += 1\n",
        "                a2_c += 1\n",
        "                c_c[t] += 1\n",
        "            else:\n",
        "                payoff1 = -1 \n",
        "                payoff2 = -1\n",
        "                a1_d += 1\n",
        "                a2_d += 1\n",
        "                \n",
        "                \n",
        "            \n",
        "            agent1.respond(payoff1)\n",
        "            agent2.respond(payoff2)\n",
        "    print('Player1 cooperate, defect', a1_c / (TRIALS * PARTICIPANTS), a1_d / (TRIALS * PARTICIPANTS))\n",
        "    \n",
        "    print('Player2 cooperate, defect', a2_c / (TRIALS * PARTICIPANTS), a2_d / (TRIALS * PARTICIPANTS))\n",
        "    \n",
        "    #print(f\"{p+1},{t+1},{selected},{int(warned)},{int(covered)},{int(attack)},{payoff}\",file = f)\n",
        "    #return attacks / (TRIALS * PARTICIPANTS)\n",
        "    return [n / PARTICIPANTS for n in c_c]\n",
        "\n",
        "if __name__ == '__main__':\n",
        "    run()"
      ],
      "metadata": {
        "colab": {
          "base_uri": "https://localhost:8080/"
        },
        "id": "-jtMs50Zc8rs",
        "outputId": "63b9bc71-0dcf-4666-cd87-87b25f0362e3"
      },
      "execution_count": 4,
      "outputs": [
        {
          "output_type": "stream",
          "name": "stdout",
          "text": [
            "Player1 cooperate, defect 0.9362 0.0638\n",
            "Player2 cooperate, defect 0.9362 0.0638\n"
          ]
        }
      ]
    },
    {
      "cell_type": "markdown",
      "source": [
        "This code simulates a game between two players (Agent1 and Agent2) who must choose between two options (cooperate or defect) in each of 50 trials. The game is played by 100 participants. The game is a variation of the prisoner's dilemma where the reward/punishment for each player depends on the choices made by both players.\n",
        "\n",
        "The code initializes the agents with default utility value of 15, and no optimized learning. The global variables are set for the number of participants, decay value, noise, target count, and number of trials. The reset_agent() function is defined to reset the agent's state and set the noise and decay values.\n",
        "\n",
        "In the run() function, the two agents play against each other in each trial for each participant. The payoff for each player is determined based on their own choice and the choice of the other player. If both players choose to cooperate, they both get a payoff of 1. If both players choose to defect, they both get a payoff of -1. If one player defects and the other cooperates, the defecting player gets a payoff of 10 and the cooperating player gets a payoff of -10.\n",
        "\n",
        "The function keeps track of the number of times each player chooses to cooperate or defect, and the number of times they both choose to cooperate. At the end of the simulation, the proportion of cooperation in each trial is returned.\n",
        "\n",
        "The print() statements in the function display the proportion of cooperation and defection for each player."
      ],
      "metadata": {
        "id": "3tXCoGlhenGs"
      }
    },
    {
      "cell_type": "markdown",
      "source": [
        "# b) Plot the line graph representing the probability of individual cooperation on y-axis and the trials on the x-axis. --10 Points\n"
      ],
      "metadata": {
        "id": "XGvcmkSEfEmQ"
      }
    },
    {
      "cell_type": "code",
      "source": [
        "plt.plot(range(1, TRIALS + 1), run())\n",
        "plt.ylim([0, 1])\n",
        "plt.ylabel(\"Fraction of cooperation\")\n",
        "plt.xlabel(\"Round\")\n",
        "plt.grid()\n",
        "plt.show()"
      ],
      "metadata": {
        "colab": {
          "base_uri": "https://localhost:8080/",
          "height": 490
        },
        "id": "nfzgG-WXdCzU",
        "outputId": "1e2e7571-b1c0-4e3c-aea5-3f09233a1da2"
      },
      "execution_count": 11,
      "outputs": [
        {
          "output_type": "stream",
          "name": "stdout",
          "text": [
            "Player1 cooperate, defect 0.936 0.064\n",
            "Player2 cooperate, defect 0.936 0.064\n"
          ]
        },
        {
          "output_type": "display_data",
          "data": {
            "text/plain": [
              "<Figure size 640x480 with 1 Axes>"
            ],
            "image/png": "[encoded data removed]"
          },
          "metadata": {}
        }
      ]
    },
    {
      "cell_type": "markdown",
      "source": [
        "The output shows the proportion of times Player 1 and Player 2 chose to cooperate and defect over the course of the simulation. In this particular case, both players had a default utility of 15 and were not using optimized learning. In each trial, both players choose between two options, \"C\" and \"D\". The results show that both players tended to cooperate more than they defected, with Player 1 cooperating in 93.62% of trials and Player 2 cooperating in the same proportion of trials. This indicates that both players have a tendency to cooperate in this scenario.\n"
      ],
      "metadata": {
        "id": "o6vUbZoOf7U1"
      }
    },
    {
      "cell_type": "markdown",
      "source": [
        "# 2. Please summarize various hypotheses discussed in the paper to account for interdependency information. -- 50 Points"
      ],
      "metadata": {
        "id": "B3C7mIIqf9Jt"
      }
    },
    {
      "cell_type": "markdown",
      "source": [
        "The paper discusses six hypotheses related to how players evaluate their decisions in game theory based on the outcomes of their opponents. \n",
        "\n",
        "\n",
        "\n",
        "**Selfish hypothesis:** The selfish hypothesis proposes that in decision-making situations, individuals only consider their own outcomes and do not take into account the outcomes of others. In other words, individuals with a selfish mindset do not care about what happens to others, but only focus on their own benefit. This hypothesis suggests that the player does not give any weight to the opponent's outcomes in the game, and evaluates the decision's utility based solely on their own outcome (w=0).\n",
        "\n",
        "In contrast, the fairness hypothesis suggests that individuals do care about the outcomes of others and may place some weight on them. In other words, individuals may not be completely selfish, and may take into account what happens to others. This hypothesis suggests that the player places some weight on the opponent's outcomes in the game when evaluating the decision's utility.\n",
        "\n",
        "**Extreme fairness hypothesis:** The extreme fairness hypothesis suggests that players assign equal importance to their own outcomes and their opponent's outcomes, regardless of their past experiences. This means that players would be willing to take a loss themselves if it meant their opponent received a gain, and vice versa. The weight assigned to the opponent's outcomes is the maximum possible value of 1, meaning that they are considered equally important to the player's own outcomes in all trials. Essentially, this hypothesis assumes that players have an inherent sense of equality and fairness, and that they would act accordingly in all situations.\n",
        "\n",
        "**Moderate fairness hypothesis:** The moderate fairness hypothesis proposes that players consider the opponent's outcome to some extent, but not as much as their own outcome. The value of w, which represents the weight given to the opponent's outcome, would take on a fixed value greater than zero and less than one over all trials, regardless of previous experience. However, as players interact with each other over a longer period of time, they become increasingly aware of their interdependence and begin to account for the opponent's outcome more. This suggests that the value of w may change over time, rather than remaining constant throughout all trials. The trend of this change in behavior may indicate an increasing importance of the opponent's outcome as players interact more. In the moderate fairness hypothesis, human players tend to decrease cooperation after repeated trials.\n",
        "\n",
        "**Linear increasing hypothesis:** The linear increasing hypothesis proposes that a constant or static value of w cannot account for the changes in preferences that occur over time or with varying amounts of information. In this hypothesis, the weight given to the opponent's outcome by a player increases at an equal and linear rate over repeated interactions. This suggests that the importance placed on the opponent's outcome is directly proportional to time, making it a linear function of time.\n",
        "\n",
        "**Hyperbolic discounting hypothesis:** The hyperbolic discounting hypothesis is based on the assumption that players give different weights to the opponent's outcome based on the temporal distance between the decision and the outcome. This hypothesis suggests that players may give more weight to immediate outcomes rather than distant ones, leading to a tendency to discount future rewards. Therefore, the hyperbolic discounting hypothesis assumes that players take both short-term and long-term effects into account, with the weight given to each outcome dependent on its temporal distance. This hypothesis is often reflected in the temporal discounting function, which assigns a value to rewards based on their temporal distance.\n",
        "\n",
        "**Dynamic expectations hypothesis:** The dynamic expectations hypothesis suggests that the weight a player gives to the opponent's outcomes depends on the discrepancy between the expected and actual outcomes the opponent receives. This hypothesis emphasizes the idea that players may adjust their behavior based on the opponent's past actions and expected future actions, rather than simply using a fixed value of weight for all interactions. This hypothesis takes into account the fact that players' expectations of the opponent's behavior may change over time, and their response may also change accordingly. Therefore, the weight given to the opponent's outcome is not fixed, but varies based on the expectation of opponent action, which is dynamically adjusted as the number of interactions increases.\n"
      ],
      "metadata": {
        "id": "c9yQ_B0FiZrj"
      }
    }
  ]
}